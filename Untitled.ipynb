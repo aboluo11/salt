{
 "cells": [
  {
   "cell_type": "markdown",
   "metadata": {
    "heading_collapsed": true
   },
   "source": [
    "# import"
   ]
  },
  {
   "cell_type": "code",
   "execution_count": 1,
   "metadata": {
    "hidden": true
   },
   "outputs": [],
   "source": [
    "%reload_ext autoreload\n",
    "%autoreload 2"
   ]
  },
  {
   "cell_type": "code",
   "execution_count": 2,
   "metadata": {
    "hidden": true
   },
   "outputs": [],
   "source": [
    "from lightai.learner import *\n",
    "from lightai.sampler import *\n",
    "from lightai.model import *\n",
    "from lightai.dataloader import *\n",
    "import torchvision.models as models\n",
    "from lightai.functional import *\n",
    "from functional import *\n",
    "from model import *"
   ]
  },
  {
   "cell_type": "markdown",
   "metadata": {
    "heading_collapsed": true
   },
   "source": [
    "# data"
   ]
  },
  {
   "cell_type": "code",
   "execution_count": 3,
   "metadata": {
    "hidden": true
   },
   "outputs": [],
   "source": [
    "depth_csv = pd.read_csv('inputs/depths.csv')"
   ]
  },
  {
   "cell_type": "code",
   "execution_count": 3,
   "metadata": {
    "hidden": true
   },
   "outputs": [],
   "source": [
    "class ImageDataset:\n",
    "    def __init__(self, path):\n",
    "        path = Path(path)\n",
    "        img_path = path/'images'\n",
    "        mask_path = path/'masks'\n",
    "        self.img = list(img_path.iterdir())\n",
    "        self.mask = list(mask_path.iterdir())\n",
    "    def __getitem__(self, idx):\n",
    "        flag = cv2.IMREAD_GRAYSCALE\n",
    "        if type(idx) is int:\n",
    "            idx = [idx]\n",
    "        img = np.stack([cv2.imread(str(self.img[i])) for i in idx])\n",
    "        mask = np.stack([cv2.imread(str(self.mask[i]),flag) for i in idx])\n",
    "        return img.astype(np.float32)/255, mask.astype(np.float32)/255\n",
    "    def __len__(self):\n",
    "        return len(self.img)"
   ]
  },
  {
   "cell_type": "code",
   "execution_count": 4,
   "metadata": {
    "hidden": true
   },
   "outputs": [],
   "source": [
    "class TotalDataset(ImageDataset):\n",
    "    def __init__(self):\n",
    "        img_trn_path = Path('inputs/train/images')\n",
    "        img_val_path = Path('inputs/val/images')\n",
    "        mask_trn_path = Path('inputs/train/masks')\n",
    "        mask_val_path = Path('inputs/val/masks')\n",
    "        self.img = list(img_trn_path.iterdir())+list(img_val_path.iterdir())\n",
    "        self.mask = list(mask_trn_path.iterdir())+list(mask_val_path.iterdir())"
   ]
  },
  {
   "cell_type": "code",
   "execution_count": 5,
   "metadata": {
    "hidden": true
   },
   "outputs": [],
   "source": [
    "bs = 256\n",
    "def tsfm(x):\n",
    "    img, mask = x\n",
    "    img = np.transpose(img,axes=[0,3,1,2])\n",
    "    img -= img.mean(axis=(0,2,3),keepdims=True)\n",
    "    return img, mask\n",
    "trn_ds = ImageDataset('inputs/train')\n",
    "val_ds = ImageDataset('inputs/val')\n",
    "trn_sampler = BatchSampler(trn_ds, bs)\n",
    "val_sampler = BatchSampler(val_ds, bs)\n",
    "trn_dl = DataLoader(trn_sampler,tsfm=tsfm)\n",
    "val_dl = DataLoader(val_sampler,tsfm=tsfm)"
   ]
  },
  {
   "cell_type": "code",
   "execution_count": null,
   "metadata": {
    "hidden": true
   },
   "outputs": [],
   "source": [
    "bs = 256\n",
    "total_ds = TotalDataset()\n",
    "total_sampler = BatchSampler(total_ds, bs)\n",
    "total_dl = DataLoader(total_sampler,tsfm=tsfm)"
   ]
  },
  {
   "cell_type": "markdown",
   "metadata": {
    "heading_collapsed": true
   },
   "source": [
    "# train"
   ]
  },
  {
   "cell_type": "code",
   "execution_count": null,
   "metadata": {
    "hidden": true
   },
   "outputs": [],
   "source": [
    "resnet18 = models.resnet18(True)\n",
    "model = Dynamic(model_cut(resnet18,-2), total_ds).cuda()\n",
    "learner = Learner(total_dl, None, model, nn.BCEWithLogitsLoss())"
   ]
  },
  {
   "cell_type": "code",
   "execution_count": null,
   "metadata": {
    "hidden": true
   },
   "outputs": [],
   "source": [
    "learner.freeze_to(-1)"
   ]
  },
  {
   "cell_type": "code",
   "execution_count": null,
   "metadata": {
    "hidden": true
   },
   "outputs": [],
   "source": [
    "wd = 1e-6\n",
    "lr = 0.3"
   ]
  },
  {
   "cell_type": "code",
   "execution_count": null,
   "metadata": {
    "hidden": true
   },
   "outputs": [],
   "source": [
    "learner.lr_find(n_epochs=2,wds=wd)"
   ]
  },
  {
   "cell_type": "code",
   "execution_count": null,
   "metadata": {
    "hidden": true
   },
   "outputs": [],
   "source": [
    "learner.fit(n_epochs=10, lrs=lr,wds=wd,clr_params=[20,2,0.01,0.1])"
   ]
  },
  {
   "cell_type": "code",
   "execution_count": null,
   "metadata": {
    "hidden": true
   },
   "outputs": [],
   "source": [
    "learner.unfreeze()"
   ]
  },
  {
   "cell_type": "code",
   "execution_count": null,
   "metadata": {
    "hidden": true
   },
   "outputs": [],
   "source": [
    "learner.lr_find(start_lrs=[1e-7,1e-6],wds=wd)"
   ]
  },
  {
   "cell_type": "code",
   "execution_count": null,
   "metadata": {
    "hidden": true
   },
   "outputs": [],
   "source": [
    "lrs = np.array([lr/10,lr])"
   ]
  },
  {
   "cell_type": "code",
   "execution_count": null,
   "metadata": {
    "hidden": true
   },
   "outputs": [],
   "source": [
    "learner.fit(n_epochs=10, lrs=lrs/10, wds=wd, clr_params=[20,2,0.01,0.1])"
   ]
  },
  {
   "cell_type": "code",
   "execution_count": null,
   "metadata": {
    "hidden": true
   },
   "outputs": [],
   "source": [
    "learner.recorder.plot_loss()"
   ]
  },
  {
   "cell_type": "markdown",
   "metadata": {},
   "source": [
    "# submit"
   ]
  },
  {
   "cell_type": "code",
   "execution_count": 6,
   "metadata": {},
   "outputs": [],
   "source": [
    "resnet18 = models.resnet18(True)\n",
    "model = Dynamic(model_cut(resnet18,-2), trn_ds).cuda()\n",
    "model.load_state_dict(torch.load('model/0.7885647177696228'))"
   ]
  },
  {
   "cell_type": "code",
   "execution_count": 7,
   "metadata": {},
   "outputs": [
    {
     "name": "stdout",
     "output_type": "stream",
     "text": [
      "Wall time: 6.42 s\n"
     ]
    }
   ],
   "source": [
    "%%time\n",
    "val_sampler = BatchSampler(val_ds, 256)\n",
    "val_dl = DataLoader(val_sampler,tsfm=tsfm)\n",
    "thresholds,ious = thres_iou(model, val_dl)"
   ]
  },
  {
   "cell_type": "code",
   "execution_count": 8,
   "metadata": {
    "scrolled": true
   },
   "outputs": [
    {
     "data": {
      "text/plain": [
       "[<matplotlib.lines.Line2D at 0x1ee003b5390>]"
      ]
     },
     "execution_count": 8,
     "metadata": {},
     "output_type": "execute_result"
    },
    {
     "data": {
      "image/png": "[encoded data removed]",
      "text/plain": [
       "<Figure size 432x288 with 1 Axes>"
      ]
     },
     "metadata": {},
     "output_type": "display_data"
    }
   ],
   "source": [
    "plt.plot(thresholds,ious)"
   ]
  },
  {
   "cell_type": "code",
   "execution_count": 9,
   "metadata": {},
   "outputs": [
    {
     "data": {
      "text/plain": [
       "0.73387504"
      ]
     },
     "execution_count": 9,
     "metadata": {},
     "output_type": "execute_result"
    }
   ],
   "source": [
    "max(ious)"
   ]
  },
  {
   "cell_type": "code",
   "execution_count": 10,
   "metadata": {
    "scrolled": true
   },
   "outputs": [],
   "source": [
    "best_thres = np.argmax(ious)\n",
    "best_thres = best_thres/100"
   ]
  },
  {
   "cell_type": "code",
   "execution_count": 11,
   "metadata": {
    "scrolled": false
   },
   "outputs": [
    {
     "data": {
      "text/plain": [
       "0.5"
      ]
     },
     "execution_count": 11,
     "metadata": {},
     "output_type": "execute_result"
    }
   ],
   "source": [
    "best_thres"
   ]
  },
  {
   "cell_type": "code",
   "execution_count": 94,
   "metadata": {},
   "outputs": [],
   "source": [
    "class TestDataset():\n",
    "    def __init__(self):\n",
    "        img_path = Path('inputs/test/images')\n",
    "        self.img = list(img_path.iterdir())\n",
    "        \n",
    "    def __getitem__(self, idx):\n",
    "        flag = cv2.IMREAD_GRAYSCALE\n",
    "        if type(idx) is int:\n",
    "            idx = [idx]\n",
    "        img = np.stack([cv2.imread(str(self.img[i])) for i in idx])\n",
    "        name = [self.img[i].parts[-1].split('.')[0] for i in idx]\n",
    "        return img.astype(np.float32)/255, name\n",
    "    \n",
    "    def __len__(self):\n",
    "        return len(self.img)"
   ]
  },
  {
   "cell_type": "code",
   "execution_count": 114,
   "metadata": {},
   "outputs": [],
   "source": [
    "def get_test_data():\n",
    "    def tsfm(x):\n",
    "        img, name = x\n",
    "        img = np.transpose(img,axes=[0,3,1,2])\n",
    "        img -= img.mean(axis=(0,2,3),keepdims=True)\n",
    "        return img, name\n",
    "    test_ds = TestDataset()\n",
    "    test_sampler = BatchSampler(test_ds,512)\n",
    "    test_dl = DataLoader(test_sampler,tsfm)\n",
    "    return test_ds,test_sampler,test_dl"
   ]
  },
  {
   "cell_type": "code",
   "execution_count": 115,
   "metadata": {},
   "outputs": [
    {
     "name": "stdout",
     "output_type": "stream",
     "text": [
      "Wall time: 2min 13s\n"
     ]
    }
   ],
   "source": [
    "%%time\n",
    "submit = pd.read_csv('inputs/sample_submission.csv')\n",
    "test_ds,test_sampler,test_dl = get_test_data()\n",
    "thres = best_thres\n",
    "with torch.no_grad():\n",
    "    model.eval()\n",
    "    for img, name in test_dl:\n",
    "        mask = torch.sigmoid(model(T(img)))\n",
    "        mask = mask > thres\n",
    "        mask = mask.cpu().numpy()\n",
    "        for n,m in zip(name,mask):\n",
    "            m = rl_enc(m)\n",
    "            submit.loc[submit['id']==n,'rle_mask'] = m"
   ]
  },
  {
   "cell_type": "code",
   "execution_count": 119,
   "metadata": {},
   "outputs": [],
   "source": [
    "submit.to_csv('submit.csv',index=False)"
   ]
  },
  {
   "cell_type": "code",
   "execution_count": null,
   "metadata": {},
   "outputs": [],
   "source": []
  }
 ],
 "metadata": {
  "kernelspec": {
   "display_name": "Python 3",
   "language": "python",
   "name": "python3"
  },
  "language_info": {
   "codemirror_mode": {
    "name": "ipython",
    "version": 3
   },
   "file_extension": ".py",
   "mimetype": "text/x-python",
   "name": "python",
   "nbconvert_exporter": "python",
   "pygments_lexer": "ipython3",
   "version": "3.6.5"
  }
 },
 "nbformat": 4,
 "nbformat_minor": 2
}
