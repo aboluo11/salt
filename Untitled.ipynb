{
 "cells": [
  {
   "cell_type": "markdown",
   "metadata": {},
   "source": [
    "# import"
   ]
  },
  {
   "cell_type": "code",
   "execution_count": 1,
   "metadata": {},
   "outputs": [],
   "source": [
    "%reload_ext autoreload\n",
    "%autoreload 2"
   ]
  },
  {
   "cell_type": "code",
   "execution_count": 10,
   "metadata": {},
   "outputs": [],
   "source": [
    "from lightai.imps import *\n",
    "from lightai.learner import *\n",
    "from lightai.dataloader import *\n",
    "import torchvision.models as models\n",
    "from functional import *\n",
    "from model import *\n",
    "from transform import *\n",
    "from dataset import *\n",
    "from metric import *"
   ]
  },
  {
   "cell_type": "markdown",
   "metadata": {},
   "source": [
    "# data"
   ]
  },
  {
   "cell_type": "code",
   "execution_count": 29,
   "metadata": {},
   "outputs": [],
   "source": [
    "trn_tsfm = compose([Hflip(0.5),to_np])\n",
    "val_tsfm = compose([to_np])"
   ]
  },
  {
   "cell_type": "code",
   "execution_count": 4,
   "metadata": {},
   "outputs": [],
   "source": [
    "bs = 32"
   ]
  },
  {
   "cell_type": "code",
   "execution_count": 30,
   "metadata": {},
   "outputs": [],
   "source": [
    "trn_ds = ImageDataset('inputs/gray/train',tsfm=trn_tsfm)\n",
    "val_ds = ImageDataset('inputs/gray/val',tsfm=val_tsfm)\n",
    "trn_sampler = BatchSampler(trn_ds, bs)\n",
    "val_sampler = BatchSampler(val_ds, bs)\n",
    "trn_dl = DataLoader(trn_sampler)\n",
    "val_dl = DataLoader(val_sampler)"
   ]
  },
  {
   "cell_type": "code",
   "execution_count": 31,
   "metadata": {},
   "outputs": [],
   "source": [
    "sp_trn_ds = ImageDataset('inputs/gray/sample/train',tsfm=trn_tsfm)\n",
    "sp_val_ds = ImageDataset('inputs/gray/sample/val',tsfm=val_tsfm)\n",
    "sp_trn_sampler = BatchSampler(sp_trn_ds, bs)\n",
    "sp_val_sampler = BatchSampler(sp_val_ds, bs)\n",
    "sp_trn_dl = DataLoader(sp_trn_sampler)\n",
    "sp_val_dl = DataLoader(sp_val_sampler)"
   ]
  },
  {
   "cell_type": "markdown",
   "metadata": {},
   "source": [
    "# train"
   ]
  },
  {
   "cell_type": "code",
   "execution_count": 94,
   "metadata": {},
   "outputs": [],
   "source": [
    "resnet = resnet18(False)\n",
    "model = Dynamic(model_cut(resnet,-2), sp_trn_ds).cuda()\n",
    "layer_opt = LayerOptimizer(model)\n",
    "learner = Learner(sp_trn_dl, sp_val_dl, model, nn.BCEWithLogitsLoss(),layer_opt,\n",
    "                  metric=Score, small_better=False)"
   ]
  },
  {
   "cell_type": "code",
   "execution_count": 95,
   "metadata": {},
   "outputs": [],
   "source": [
    "wd = 1e-6\n",
    "lr = 0.3\n",
    "lrs = np.array([lr/10,lr])"
   ]
  },
  {
   "cell_type": "code",
   "execution_count": null,
   "metadata": {
    "scrolled": false
   },
   "outputs": [
    {
     "data": {
      "application/vnd.jupyter.widget-view+json": {
       "model_id": "03ef6d65684d472fabdbd9e343632a42",
       "version_major": 2,
       "version_minor": 0
      },
      "text/plain": [
       "HBox(children=(IntProgress(value=0, description='Epoch', max=16), HTML(value='')))"
      ]
     },
     "metadata": {},
     "output_type": "display_data"
    },
    {
     "name": "stdout",
     "output_type": "stream",
     "text": [
      "   epoch    trn_loss   val_loss     score                                                                                    \n",
      "     1      0.555238   0.593255   0.375000  \n",
      "     2      0.488710   1.437753   0.345000                                                                                   \n",
      "     3      0.444428   0.490579   0.441875                                                                                   \n",
      "     4      0.406009   0.354821   0.523125                                                                                   \n",
      "     5      0.384766   0.310409   0.520000                                                                                   \n",
      "     6      0.357008   0.333846   0.587500                                                                                   \n",
      "     7      0.328819   0.281737   0.506875                                                                                   \n",
      "     8      0.315010   0.313636   0.542500                                                                                   \n",
      " 60%|█████████████████████████████████████████████▌                              | 12/20 [00:04<00:02,  2.97it/s, loss=0.305]"
     ]
    }
   ],
   "source": [
    "learner.fit(n_epochs=16, lrs=lr,wds=wd,clr_params=[50,10,0.01,0])"
   ]
  },
  {
   "cell_type": "code",
   "execution_count": 9,
   "metadata": {},
   "outputs": [
    {
     "data": {
      "application/vnd.jupyter.widget-view+json": {
       "model_id": "4d18c055ffe74366b9d7c6cd45484675",
       "version_major": 2,
       "version_minor": 0
      },
      "text/plain": [
       "HBox(children=(IntProgress(value=0, description='Epoch', max=16), HTML(value='')))"
      ]
     },
     "metadata": {},
     "output_type": "display_data"
    },
    {
     "name": "stdout",
     "output_type": "stream",
     "text": [
      "   epoch    trn_loss   val_loss     score                                                                                    \n",
      "     1      0.117367   0.146025   0.722250  \n",
      "     2      0.115460   0.147501   0.726375                                                                                   \n",
      "     3      0.113761   0.150519   0.723625                                                                                   \n",
      "     4      0.111485   0.153450   0.717375                                                                                   \n",
      "     5      0.109699   0.152763   0.720500                                                                                   \n",
      "     6      0.105671   0.153596   0.728750                                                                                   \n",
      "     7      0.102321   0.183058   0.721250                                                                                   \n",
      "     8      0.100521   0.181586   0.696125                                                                                   \n",
      "     9      0.092927   0.158439   0.723250                                                                                   \n",
      "    10      0.087415   0.170447   0.727750                                                                                   \n",
      "    11      0.088137   0.163736   0.710500                                                                                   \n",
      "    12      0.082042   0.167737   0.730500                                                                                   \n",
      "    13      0.077951   0.169641   0.733500                                                                                   \n",
      "    14      0.074863   0.170880   0.731250                                                                                   \n",
      "    15      0.070963   0.174166   0.732875                                                                                   \n",
      "    16      0.071638   0.174120   0.733250                                                                                   \n",
      "\n"
     ]
    }
   ],
   "source": [
    "learner.fit(n_epochs=16, lrs=lrs/10,wds=wd,clr_params=[10,2,0.01,0.1])"
   ]
  },
  {
   "cell_type": "code",
   "execution_count": null,
   "metadata": {},
   "outputs": [],
   "source": [
    "learner.unfreeze()"
   ]
  },
  {
   "cell_type": "code",
   "execution_count": null,
   "metadata": {
    "scrolled": false
   },
   "outputs": [],
   "source": [
    "learner.fit(n_epochs=8, lrs=lrs/10, wds=wd, clr_params=[20,2,0.01,0.1])"
   ]
  },
  {
   "cell_type": "code",
   "execution_count": null,
   "metadata": {},
   "outputs": [],
   "source": [
    "learner.recorder.plot_loss()"
   ]
  },
  {
   "cell_type": "markdown",
   "metadata": {
    "heading_collapsed": true
   },
   "source": [
    "# submit"
   ]
  },
  {
   "cell_type": "code",
   "execution_count": 77,
   "metadata": {
    "hidden": true
   },
   "outputs": [],
   "source": [
    "resnet = resnet18(False)\n",
    "model = Dynamic(model_cut(resnet,-2), trn_ds).cuda()\n",
    "model.load_state_dict(torch.load('model/best')['state_dict'])"
   ]
  },
  {
   "cell_type": "code",
   "execution_count": 78,
   "metadata": {
    "hidden": true
   },
   "outputs": [
    {
     "name": "stdout",
     "output_type": "stream",
     "text": [
      "Wall time: 6.04 s\n"
     ]
    }
   ],
   "source": [
    "%%time\n",
    "thresholds,scores = thres_score(model, val_dl)"
   ]
  },
  {
   "cell_type": "code",
   "execution_count": 79,
   "metadata": {
    "hidden": true
   },
   "outputs": [
    {
     "data": {
      "text/plain": [
       "0.77637494"
      ]
     },
     "execution_count": 79,
     "metadata": {},
     "output_type": "execute_result"
    }
   ],
   "source": [
    "max(scores)"
   ]
  },
  {
   "cell_type": "code",
   "execution_count": 80,
   "metadata": {
    "hidden": true,
    "scrolled": true
   },
   "outputs": [],
   "source": [
    "best_thres = np.argmax(scores)\n",
    "best_thres = best_thres/100"
   ]
  },
  {
   "cell_type": "code",
   "execution_count": 81,
   "metadata": {
    "hidden": true,
    "scrolled": false
   },
   "outputs": [
    {
     "data": {
      "text/plain": [
       "0.49"
      ]
     },
     "execution_count": 81,
     "metadata": {},
     "output_type": "execute_result"
    }
   ],
   "source": [
    "best_thres"
   ]
  },
  {
   "cell_type": "code",
   "execution_count": 84,
   "metadata": {
    "hidden": true
   },
   "outputs": [],
   "source": [
    "class TestDataset():\n",
    "    def __init__(self,tsfm):\n",
    "        img_path = Path('inputs/gray/test/images')\n",
    "        self.img = list(img_path.iterdir())\n",
    "        self.tsfm = tsfm\n",
    "        \n",
    "    def __getitem__(self, idx):\n",
    "        img = Image.open(self.img[idx])\n",
    "        if self.tsfm:\n",
    "            img = self.tsfm(img)\n",
    "        name = self.img[idx].parts[-1].split('.')[0]\n",
    "        return img, name\n",
    "    \n",
    "    def __len__(self):\n",
    "        return len(self.img)"
   ]
  },
  {
   "cell_type": "code",
   "execution_count": 82,
   "metadata": {
    "hidden": true
   },
   "outputs": [],
   "source": [
    "def get_test_data():\n",
    "    def tsfm(img):\n",
    "        mean = np.array(0.47146264)\n",
    "        std = np.array(0.1610698)\n",
    "        img = np.asarray(img).astype(np.float32)/255\n",
    "        img = (img-mean)/std\n",
    "        img = np.expand_dims(img, 0)\n",
    "        return img\n",
    "    test_ds = TestDataset(tsfm=tsfm)\n",
    "    test_sampler = BatchSampler(test_ds,bs)\n",
    "    test_dl = DataLoader(test_sampler,None)\n",
    "    return test_ds,test_sampler,test_dl"
   ]
  },
  {
   "cell_type": "code",
   "execution_count": 85,
   "metadata": {
    "hidden": true,
    "scrolled": false
   },
   "outputs": [
    {
     "name": "stdout",
     "output_type": "stream",
     "text": [
      "Wall time: 2min 44s\n"
     ]
    }
   ],
   "source": [
    "%%time\n",
    "submit = pd.read_csv('inputs/sample_submission.csv')\n",
    "test_ds,test_sampler,test_dl = get_test_data()\n",
    "thres = best_thres\n",
    "with torch.no_grad():\n",
    "    model.eval()\n",
    "    for img, name in test_dl:\n",
    "        mask = torch.sigmoid(model(T(img)))\n",
    "        mask = mask > thres\n",
    "        mask = mask.cpu().numpy()\n",
    "        for n,m in zip(name,mask):\n",
    "            m = rl_enc(m)\n",
    "            submit.loc[submit['id']==n,'rle_mask'] = m"
   ]
  },
  {
   "cell_type": "code",
   "execution_count": 86,
   "metadata": {
    "hidden": true
   },
   "outputs": [],
   "source": [
    "submit.to_csv('submit.csv',index=False)"
   ]
  },
  {
   "cell_type": "code",
   "execution_count": null,
   "metadata": {
    "hidden": true
   },
   "outputs": [],
   "source": []
  }
 ],
 "metadata": {
  "kernelspec": {
   "display_name": "Python 3",
   "language": "python",
   "name": "python3"
  },
  "language_info": {
   "codemirror_mode": {
    "name": "ipython",
    "version": 3
   },
   "file_extension": ".py",
   "mimetype": "text/x-python",
   "name": "python",
   "nbconvert_exporter": "python",
   "pygments_lexer": "ipython3",
   "version": "3.6.5"
  }
 },
 "nbformat": 4,
 "nbformat_minor": 2
}
