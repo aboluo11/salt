{
 "cells": [
  {
   "cell_type": "markdown",
   "metadata": {},
   "source": [
    "# import"
   ]
  },
  {
   "cell_type": "code",
   "execution_count": 1,
   "metadata": {},
   "outputs": [],
   "source": [
    "%reload_ext autoreload\n",
    "%autoreload 2"
   ]
  },
  {
   "cell_type": "code",
   "execution_count": 2,
   "metadata": {},
   "outputs": [],
   "source": [
    "from lightai.learner import *\n",
    "from lightai.dataloader import *\n",
    "import torchvision.models as models\n",
    "from functional import *\n",
    "from model import *\n",
    "from transform import *\n",
    "from dataset import *\n",
    "from metric import *"
   ]
  },
  {
   "cell_type": "markdown",
   "metadata": {},
   "source": [
    "# data"
   ]
  },
  {
   "cell_type": "code",
   "execution_count": null,
   "metadata": {},
   "outputs": [],
   "source": [
    "depth_csv = pd.read_csv('inputs/depths.csv')"
   ]
  },
  {
   "cell_type": "code",
   "execution_count": 3,
   "metadata": {},
   "outputs": [],
   "source": [
    "trn_tsfm = compose([Hflip(0.5),Normalize(False),unsqueeze])\n",
    "val_tsfm = compose([Normalize(False),unsqueeze])"
   ]
  },
  {
   "cell_type": "code",
   "execution_count": 4,
   "metadata": {},
   "outputs": [],
   "source": [
    "bs = 256"
   ]
  },
  {
   "cell_type": "code",
   "execution_count": 5,
   "metadata": {},
   "outputs": [],
   "source": [
    "trn_ds = ImageDataset('inputs/gray/train',tsfm=trn_tsfm)\n",
    "val_ds = ImageDataset('inputs/gray/val',tsfm=val_tsfm)\n",
    "trn_sampler = BatchSampler(trn_ds, bs)\n",
    "val_sampler = BatchSampler(val_ds, bs)\n",
    "trn_dl = DataLoader(trn_sampler)\n",
    "val_dl = DataLoader(val_sampler)"
   ]
  },
  {
   "cell_type": "code",
   "execution_count": null,
   "metadata": {},
   "outputs": [],
   "source": [
    "sp_trn_ds = ImageDataset('inputs/sample/train',tsfm=trn_tsfm)\n",
    "sp_val_ds = ImageDataset('inputs/sample/val',tsfm=val_tsfm)\n",
    "sp_trn_sampler = BatchSampler(sp_trn_ds, bs)\n",
    "sp_val_sampler = BatchSampler(sp_val_ds, bs)\n",
    "sp_trn_dl = DataLoader(sp_trn_sampler)\n",
    "sp_val_dl = DataLoader(sp_val_sampler)"
   ]
  },
  {
   "cell_type": "markdown",
   "metadata": {},
   "source": [
    "# train"
   ]
  },
  {
   "cell_type": "code",
   "execution_count": 9,
   "metadata": {},
   "outputs": [],
   "source": [
    "resnet = resnet18(False)\n",
    "model = Dynamic(model_cut(resnet,-2), trn_ds).cuda()\n",
    "layer_opt = LayerOptimizer(model)\n",
    "learner = Learner(trn_dl, val_dl, model, nn.BCEWithLogitsLoss(),layer_opt,\n",
    "                  metric=Score, small_better=False)"
   ]
  },
  {
   "cell_type": "code",
   "execution_count": null,
   "metadata": {},
   "outputs": [],
   "source": [
    "learner.freeze_to(-1, bn_freeze=True)"
   ]
  },
  {
   "cell_type": "code",
   "execution_count": 10,
   "metadata": {},
   "outputs": [],
   "source": [
    "wd = 1e-6\n",
    "lr = 0.3\n",
    "lrs = np.array([lr/10,lr])"
   ]
  },
  {
   "cell_type": "code",
   "execution_count": 11,
   "metadata": {
    "scrolled": false
   },
   "outputs": [
    {
     "data": {
      "application/vnd.jupyter.widget-view+json": {
       "model_id": "8c19137c3ae74c45af65d9c179435a7c",
       "version_major": 2,
       "version_minor": 0
      },
      "text/plain": [
       "HBox(children=(IntProgress(value=0, description='Epoch', max=32), HTML(value='')))"
      ]
     },
     "metadata": {},
     "output_type": "display_data"
    },
    {
     "name": "stdout",
     "output_type": "stream",
     "text": [
      "   epoch    trn_loss   val_loss     score                                                                                    \n",
      "     1      0.575917   0.550170   0.405000  \n",
      "     2      0.568550   0.549323   0.405000                                                                                   \n",
      "     3      0.565530   0.549104   0.405000                                                                                   \n",
      "     4      0.562992   0.548538   0.405000                                                                                   \n",
      "     5      0.560415   0.545338   0.405000                                                                                   \n",
      "     6      0.555138   0.519489   0.405000                                                                                   \n",
      "     7      0.549055   0.725740   0.405000                                                                                   \n",
      "     8      0.534564   1.070541   0.405000                                                                                   \n",
      "     9      0.517595   1.136541   0.405000                                                                                   \n",
      "    10      0.492701   0.525239   0.135750                                                                                   \n",
      "    11      0.460111   0.423384   0.236250                                                                                   \n",
      "    12      0.429463   0.346322   0.248625                                                                                   \n",
      "    13      0.408187   0.384859   0.328875                                                                                   \n",
      "    14      0.383385   0.306853   0.493250                                                                                   \n",
      "    15      0.362121   0.306444   0.382875                                                                                   \n",
      "    16      0.340806   0.332842   0.366000                                                                                   \n",
      "    17      0.320746   0.282177   0.356000                                                                                   \n",
      "    18      0.306944   0.309165   0.422375                                                                                   \n",
      "    19      0.294456   0.333140   0.335375                                                                                   \n",
      "    20      0.281279   0.262313   0.523875                                                                                   \n",
      "    21      0.268909   0.253752   0.408500                                                                                   \n",
      "    22      0.255247   0.221939   0.461750                                                                                   \n",
      "    23      0.241675   0.329430   0.377500                                                                                   \n",
      "    24      0.231904   0.212852   0.452250                                                                                   \n",
      "    25      0.220625   0.251725   0.440250                                                                                   \n",
      "    26      0.210333   0.192839   0.497000                                                                                   \n",
      "    27      0.199673   0.198339   0.493125                                                                                   \n",
      "    28      0.189781   0.179952   0.507375                                                                                   \n",
      "    29      0.180016   0.183397   0.513000                                                                                   \n",
      "    30      0.169360   0.177846   0.509875                                                                                   \n",
      "    31      0.160066   0.179395   0.506000                                                                                   \n",
      "    32      0.151677   0.178137   0.500000                                                                                   \n",
      "\n"
     ]
    }
   ],
   "source": [
    "learner.fit(n_epochs=32, lrs=lr,wds=wd,clr_params=[10,2,0.01,0.1])"
   ]
  },
  {
   "cell_type": "code",
   "execution_count": null,
   "metadata": {},
   "outputs": [
    {
     "data": {
      "application/vnd.jupyter.widget-view+json": {
       "model_id": "c262ff3c649e472f878c86428b2df5bf",
       "version_major": 2,
       "version_minor": 0
      },
      "text/plain": [
       "HBox(children=(IntProgress(value=0, description='Epoch', max=32), HTML(value='')))"
      ]
     },
     "metadata": {},
     "output_type": "display_data"
    },
    {
     "name": "stdout",
     "output_type": "stream",
     "text": [
      "   epoch    trn_loss   val_loss     score                                                                                    \n",
      "     1      0.122739   0.179535   0.506250  \n",
      "     2      0.121332   0.183909   0.508500                                                                                   \n",
      "     3      0.121414   0.180855   0.504250                                                                                   \n",
      "     4      0.121852   0.183580   0.487875                                                                                   \n",
      "     5      0.119315   0.185451   0.504375                                                                                   \n",
      " 69%|█████████████████████████████████████████████████████▎                       | 9/13 [00:11<00:05,  1.28s/it, loss=0.116]"
     ]
    }
   ],
   "source": [
    "learner.fit(n_epochs=32, lrs=lr/10,wds=wd,clr_params=[10,2,0.01,0.1])"
   ]
  },
  {
   "cell_type": "code",
   "execution_count": null,
   "metadata": {},
   "outputs": [],
   "source": [
    "learner.unfreeze()"
   ]
  },
  {
   "cell_type": "code",
   "execution_count": null,
   "metadata": {
    "scrolled": false
   },
   "outputs": [],
   "source": [
    "learner.fit(n_epochs=8, lrs=lrs/10, wds=wd, clr_params=[20,2,0.01,0.1])"
   ]
  },
  {
   "cell_type": "code",
   "execution_count": null,
   "metadata": {},
   "outputs": [],
   "source": [
    "learner.recorder.plot_loss()"
   ]
  },
  {
   "cell_type": "markdown",
   "metadata": {
    "heading_collapsed": true
   },
   "source": [
    "# submit"
   ]
  },
  {
   "cell_type": "code",
   "execution_count": null,
   "metadata": {
    "hidden": true
   },
   "outputs": [],
   "source": [
    "resnet18 = models.resnet18(True)\n",
    "model = Dynamic(model_cut(resnet18,-2), trn_ds).cuda()\n",
    "model.load_state_dict(torch.load('model/best')['state_dict'])"
   ]
  },
  {
   "cell_type": "code",
   "execution_count": null,
   "metadata": {
    "hidden": true
   },
   "outputs": [],
   "source": [
    "%%time\n",
    "thresholds,scores = thres_score(model, val_dl)"
   ]
  },
  {
   "cell_type": "code",
   "execution_count": null,
   "metadata": {
    "hidden": true
   },
   "outputs": [],
   "source": [
    "max(scores)"
   ]
  },
  {
   "cell_type": "code",
   "execution_count": null,
   "metadata": {
    "hidden": true,
    "scrolled": true
   },
   "outputs": [],
   "source": [
    "best_thres = np.argmax(scores)\n",
    "best_thres = best_thres/100"
   ]
  },
  {
   "cell_type": "code",
   "execution_count": null,
   "metadata": {
    "hidden": true,
    "scrolled": false
   },
   "outputs": [],
   "source": [
    "best_thres"
   ]
  },
  {
   "cell_type": "code",
   "execution_count": null,
   "metadata": {
    "hidden": true
   },
   "outputs": [],
   "source": [
    "class TestDataset():\n",
    "    def __init__(self,tsfm):\n",
    "        img_path = Path('inputs/test/images')\n",
    "        self.img = list(img_path.iterdir())\n",
    "        self.tsfm = tsfm\n",
    "        \n",
    "    def __getitem__(self, idx):\n",
    "        img = Image.open(self.img[idx])\n",
    "        if self.tsfm:\n",
    "            img = self.tsfm(img)\n",
    "        name = self.img[idx].parts[-1].split('.')[0]\n",
    "        return img, name\n",
    "    \n",
    "    def __len__(self):\n",
    "        return len(self.img)"
   ]
  },
  {
   "cell_type": "code",
   "execution_count": null,
   "metadata": {
    "hidden": true
   },
   "outputs": [],
   "source": [
    "def get_test_data():\n",
    "    def tsfm(img):\n",
    "        mean = np.array([0.485, 0.456, 0.406])\n",
    "        std = np.array([0.229, 0.224, 0.225])\n",
    "        img = np.asarray(img).astype(np.float32)/255\n",
    "        img = (img-mean)/std\n",
    "        return img\n",
    "    test_ds = TestDataset(tsfm=tsfm)\n",
    "    test_sampler = BatchSampler(test_ds,512)\n",
    "    test_dl = DataLoader(test_sampler,batch_tsfm)\n",
    "    return test_ds,test_sampler,test_dl"
   ]
  },
  {
   "cell_type": "code",
   "execution_count": null,
   "metadata": {
    "hidden": true,
    "scrolled": false
   },
   "outputs": [],
   "source": [
    "%%time\n",
    "submit = pd.read_csv('inputs/sample_submission.csv')\n",
    "test_ds,test_sampler,test_dl = get_test_data()\n",
    "thres = best_thres\n",
    "with torch.no_grad():\n",
    "    model.eval()\n",
    "    for img, name in test_dl:\n",
    "        mask = torch.sigmoid(model(T(img)))\n",
    "        mask = mask > thres\n",
    "        mask = mask.cpu().numpy()\n",
    "        for n,m in zip(name,mask):\n",
    "            m = rl_enc(m)\n",
    "            submit.loc[submit['id']==n,'rle_mask'] = m"
   ]
  },
  {
   "cell_type": "code",
   "execution_count": null,
   "metadata": {
    "hidden": true
   },
   "outputs": [],
   "source": [
    "submit.to_csv('submit.csv',index=False)"
   ]
  },
  {
   "cell_type": "code",
   "execution_count": null,
   "metadata": {
    "hidden": true
   },
   "outputs": [],
   "source": []
  }
 ],
 "metadata": {
  "kernelspec": {
   "display_name": "Python 3",
   "language": "python",
   "name": "python3"
  },
  "language_info": {
   "codemirror_mode": {
    "name": "ipython",
    "version": 3
   },
   "file_extension": ".py",
   "mimetype": "text/x-python",
   "name": "python",
   "nbconvert_exporter": "python",
   "pygments_lexer": "ipython3",
   "version": "3.6.5"
  }
 },
 "nbformat": 4,
 "nbformat_minor": 2
}
