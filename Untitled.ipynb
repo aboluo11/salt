{
 "cells": [
  {
   "cell_type": "markdown",
   "metadata": {
    "heading_collapsed": true
   },
   "source": [
    "# import"
   ]
  },
  {
   "cell_type": "code",
   "execution_count": 1,
   "metadata": {
    "hidden": true
   },
   "outputs": [],
   "source": [
    "%reload_ext autoreload\n",
    "%autoreload 2"
   ]
  },
  {
   "cell_type": "code",
   "execution_count": 2,
   "metadata": {
    "hidden": true
   },
   "outputs": [],
   "source": [
    "from lightai.learner import *\n",
    "from lightai.dataloader import *\n",
    "import torchvision.models as models\n",
    "from functional import *\n",
    "from model import *\n",
    "from transform import *\n",
    "from dataset import *\n",
    "from metric import *"
   ]
  },
  {
   "cell_type": "markdown",
   "metadata": {},
   "source": [
    "# data"
   ]
  },
  {
   "cell_type": "code",
   "execution_count": null,
   "metadata": {},
   "outputs": [],
   "source": [
    "depth_csv = pd.read_csv('inputs/depths.csv')"
   ]
  },
  {
   "cell_type": "code",
   "execution_count": 14,
   "metadata": {},
   "outputs": [],
   "source": [
    "tsfm = compose([Hflip(0.5),CropRandom(0.5,0.5),to_unit_float])"
   ]
  },
  {
   "cell_type": "code",
   "execution_count": 5,
   "metadata": {},
   "outputs": [],
   "source": [
    "bs = 256"
   ]
  },
  {
   "cell_type": "code",
   "execution_count": null,
   "metadata": {},
   "outputs": [],
   "source": [
    "trn_ds = ImageDataset('inputs/train',tsfm=tsfm)\n",
    "val_ds = ImageDataset('inputs/val',tsfm=to_unit_float)\n",
    "trn_sampler = BatchSampler(trn_ds, bs)\n",
    "val_sampler = BatchSampler(val_ds, bs)\n",
    "trn_dl = DataLoader(trn_sampler,batch_tsfm=batch_tsfm)\n",
    "val_dl = DataLoader(val_sampler,batch_tsfm=batch_tsfm)"
   ]
  },
  {
   "cell_type": "code",
   "execution_count": 15,
   "metadata": {},
   "outputs": [],
   "source": [
    "sp_trn_ds = ImageDataset('inputs/sample/train',tsfm=tsfm)\n",
    "sp_val_ds = ImageDataset('inputs/sample/val',tsfm=to_unit_float)\n",
    "sp_trn_sampler = BatchSampler(sp_trn_ds, bs)\n",
    "sp_val_sampler = BatchSampler(sp_val_ds, bs)\n",
    "sp_trn_dl = DataLoader(sp_trn_sampler,batch_tsfm=batch_tsfm)\n",
    "sp_val_dl = DataLoader(sp_val_sampler,batch_tsfm=batch_tsfm)"
   ]
  },
  {
   "cell_type": "code",
   "execution_count": null,
   "metadata": {},
   "outputs": [],
   "source": [
    "no_tsfm_ds = ImageDataset('inputs/sample/train',tsfm=None)"
   ]
  },
  {
   "cell_type": "code",
   "execution_count": null,
   "metadata": {},
   "outputs": [],
   "source": [
    "plt.imshow(no_tsfm_ds[0][0])"
   ]
  },
  {
   "cell_type": "code",
   "execution_count": null,
   "metadata": {},
   "outputs": [],
   "source": [
    "plt.imshow(sp_trn_ds[0][0])"
   ]
  },
  {
   "cell_type": "code",
   "execution_count": null,
   "metadata": {},
   "outputs": [],
   "source": [
    "sp_trn_ds[0][0].shape"
   ]
  },
  {
   "cell_type": "markdown",
   "metadata": {},
   "source": [
    "# train"
   ]
  },
  {
   "cell_type": "code",
   "execution_count": 32,
   "metadata": {},
   "outputs": [],
   "source": [
    "resnet18 = models.resnet18(True)\n",
    "model = Dynamic(model_cut(resnet18,-2), sp_trn_ds).cuda()\n",
    "learner = Learner(sp_trn_dl, sp_val_dl, model, nn.BCEWithLogitsLoss(), metric=Score, small_better=False)"
   ]
  },
  {
   "cell_type": "code",
   "execution_count": 33,
   "metadata": {},
   "outputs": [],
   "source": [
    "learner.freeze_to(-1)"
   ]
  },
  {
   "cell_type": "code",
   "execution_count": 34,
   "metadata": {},
   "outputs": [],
   "source": [
    "wd = 1e-6\n",
    "lr = 0.3"
   ]
  },
  {
   "cell_type": "code",
   "execution_count": null,
   "metadata": {},
   "outputs": [],
   "source": [
    "learner.lr_find(n_epochs=5,wds=wd)"
   ]
  },
  {
   "cell_type": "code",
   "execution_count": 35,
   "metadata": {},
   "outputs": [
    {
     "data": {
      "application/vnd.jupyter.widget-view+json": {
       "model_id": "4eedb34d2de14eaf859e139d473f9904",
       "version_major": 2,
       "version_minor": 0
      },
      "text/plain": [
       "HBox(children=(IntProgress(value=0, description='Epoch', max=16), HTML(value='')))"
      ]
     },
     "metadata": {},
     "output_type": "display_data"
    },
    {
     "name": "stdout",
     "output_type": "stream",
     "text": [
      "   epoch    trn_loss   val_loss     score                                                                                    \n",
      "     1      0.651240   0.628934   0.375000  \n",
      "     2      0.621132   0.574791   0.375000                                                                                   \n",
      "     3      0.598241   0.628720   0.375000                                                                                   \n",
      "     4      0.596789   0.607573   0.375000                                                                                   \n",
      "     5      0.590795   0.574312   0.375000                                                                                   \n",
      "     6      0.586429   0.596422   0.375000                                                                                   \n",
      "     7      0.582896   0.724770   0.000000                                                                                   \n",
      "     8      0.574214   0.583840   0.293750                                                                                   \n",
      "     9      0.569212   0.588983   0.375000                                                                                   \n",
      "    10      0.561095   0.763576   0.356250                                                                                   \n",
      "    11      0.547574   0.547871   0.337500                                                                                   \n",
      "    12      0.535909   0.585931   0.303750                                                                                   \n",
      "    13      0.525491   0.806653   0.141250                                                                                   \n",
      "    14      0.519531   0.643948   0.183125                                                                                   \n",
      "    15      0.512219   0.551734   0.375000                                                                                   \n",
      "    16      0.504888   0.525025   0.375000                                                                                   \n",
      "\n"
     ]
    }
   ],
   "source": [
    "learner.fit(n_epochs=32, lrs=lr,wds=wd,clr_params=[20,2,0.01,0.1])"
   ]
  },
  {
   "cell_type": "code",
   "execution_count": 36,
   "metadata": {},
   "outputs": [],
   "source": [
    "learner.unfreeze()"
   ]
  },
  {
   "cell_type": "code",
   "execution_count": null,
   "metadata": {},
   "outputs": [],
   "source": [
    "learner.lr_find(n_epochs=5,start_lrs=[1e-7,1e-6],wds=wd)"
   ]
  },
  {
   "cell_type": "code",
   "execution_count": 37,
   "metadata": {},
   "outputs": [],
   "source": [
    "lrs = np.array([lr/10,lr])"
   ]
  },
  {
   "cell_type": "code",
   "execution_count": 38,
   "metadata": {
    "scrolled": false
   },
   "outputs": [
    {
     "data": {
      "application/vnd.jupyter.widget-view+json": {
       "model_id": "a2239f04ec7c43bb8095c7b3101b1121",
       "version_major": 2,
       "version_minor": 0
      },
      "text/plain": [
       "HBox(children=(IntProgress(value=0, description='Epoch', max=32), HTML(value='')))"
      ]
     },
     "metadata": {},
     "output_type": "display_data"
    },
    {
     "name": "stdout",
     "output_type": "stream",
     "text": [
      "   epoch    trn_loss   val_loss     score                                                                                    \n",
      "     1      0.432122   0.490752   0.375000  \n",
      "     2      0.428570   0.586099   0.375000                                                                                   \n",
      "     3      0.417920   0.504456   0.468750                                                                                   \n",
      "     4      0.408395   0.471157   0.481250                                                                                   \n",
      "     5      0.403731   0.446566   0.484375                                                                                   \n",
      "     6      0.404022   0.473287   0.479375                                                                                   \n",
      "     7      0.400638   0.515204   0.463750                                                                                   \n",
      "     8      0.404920   0.481827   0.467500                                                                                   \n",
      "     9      0.400631   0.491630   0.411875                                                                                   \n",
      "    10      0.404367   0.543120   0.380625                                                                                   \n",
      "    11      0.406036   0.498507   0.456250                                                                                   \n",
      "    12      0.403081   0.427921   0.485625                                                                                   \n",
      "    13      0.401560   0.493778   0.475000                                                                                   \n",
      "    14      0.401323   0.525883   0.377500                                                                                   \n",
      "    15      0.398461   0.558964   0.124375                                                                                   \n",
      "    16      0.396842   0.610979   0.411250                                                                                   \n",
      "    17      0.394528   0.573559   0.383750                                                                                   \n",
      "    18      0.391561   0.580026   0.201875                                                                                   \n",
      "    19      0.390483   0.540208   0.376875                                                                                   \n",
      "    20      0.390573   0.520000   0.119375                                                                                   \n",
      "    21      0.388411   0.547308   0.162500                                                                                   \n",
      "    22      0.386723   0.440250   0.181250                                                                                   \n",
      "    23      0.386898   0.390294   0.226250                                                                                   \n",
      "    24      0.383778   0.396640   0.432500                                                                                   \n",
      "    25      0.381141   0.388262   0.451875                                                                                   \n",
      "    26      0.377896   0.375776   0.548750                                                                                   \n",
      "    27      0.374985   0.385646   0.565000                                                                                   \n",
      "    28      0.372754   0.374403   0.570625                                                                                   \n",
      "    29      0.369132   0.360075   0.592500                                                                                   \n",
      "    30      0.368312   0.353186   0.594375                                                                                   \n",
      "    31      0.366192   0.348650   0.598125                                                                                   \n",
      "    32      0.363090   0.347317   0.596875                                                                                   \n",
      "\n"
     ]
    }
   ],
   "source": [
    "learner.fit(n_epochs=32, lrs=lrs/10, wds=wd, clr_params=[20,2,0.01,0.1])"
   ]
  },
  {
   "cell_type": "code",
   "execution_count": null,
   "metadata": {},
   "outputs": [],
   "source": [
    "learner.recorder.plot_loss()"
   ]
  },
  {
   "cell_type": "markdown",
   "metadata": {
    "heading_collapsed": true
   },
   "source": [
    "# submit"
   ]
  },
  {
   "cell_type": "code",
   "execution_count": null,
   "metadata": {
    "hidden": true
   },
   "outputs": [],
   "source": [
    "resnet18 = models.resnet18(True)\n",
    "model = Dynamic(model_cut(resnet18,-2), trn_ds).cuda()\n",
    "model.load_state_dict(torch.load('model/0.7885647177696228'))"
   ]
  },
  {
   "cell_type": "code",
   "execution_count": null,
   "metadata": {
    "hidden": true
   },
   "outputs": [],
   "source": [
    "%%time\n",
    "thresholds,scores = thres_score(model, val_dl)"
   ]
  },
  {
   "cell_type": "code",
   "execution_count": null,
   "metadata": {
    "hidden": true
   },
   "outputs": [],
   "source": [
    "max(scores)"
   ]
  },
  {
   "cell_type": "code",
   "execution_count": null,
   "metadata": {
    "hidden": true,
    "scrolled": true
   },
   "outputs": [],
   "source": [
    "best_thres = np.argmax(scores)\n",
    "best_thres = best_thres/100"
   ]
  },
  {
   "cell_type": "code",
   "execution_count": null,
   "metadata": {
    "hidden": true,
    "scrolled": false
   },
   "outputs": [],
   "source": [
    "best_thres"
   ]
  },
  {
   "cell_type": "code",
   "execution_count": null,
   "metadata": {
    "hidden": true
   },
   "outputs": [],
   "source": [
    "class TestDataset():\n",
    "    def __init__(self,tsfm):\n",
    "        img_path = Path('inputs/test/images')\n",
    "        self.img = list(img_path.iterdir())\n",
    "        self.tsfm = tsfm\n",
    "        \n",
    "    def __getitem__(self, idx):\n",
    "        img = Image.open(self.img[idx])\n",
    "        if self.tsfm:\n",
    "            img = self.tsfm(img)\n",
    "        name = self.img[idx].parts[-1].split('.')[0]\n",
    "        return img, name\n",
    "    \n",
    "    def __len__(self):\n",
    "        return len(self.img)"
   ]
  },
  {
   "cell_type": "code",
   "execution_count": null,
   "metadata": {
    "hidden": true
   },
   "outputs": [],
   "source": [
    "def get_test_data():\n",
    "    def batch_tsfm(x):\n",
    "        img, name = x\n",
    "        img = np.transpose(img,axes=[0,3,1,2])\n",
    "        img -= img.mean(axis=(0,2,3),keepdims=True)\n",
    "        return img, name\n",
    "    def tsfm(img):\n",
    "        return np.asarray(img).astype(np.float32)/255\n",
    "    test_ds = TestDataset(tsfm=tsfm)\n",
    "    test_sampler = BatchSampler(test_ds,512)\n",
    "    test_dl = DataLoader(test_sampler,batch_tsfm)\n",
    "    return test_ds,test_sampler,test_dl"
   ]
  },
  {
   "cell_type": "code",
   "execution_count": null,
   "metadata": {
    "hidden": true,
    "scrolled": false
   },
   "outputs": [],
   "source": [
    "%%time\n",
    "submit = pd.read_csv('inputs/sample_submission.csv')\n",
    "test_ds,test_sampler,test_dl = get_test_data()\n",
    "thres = best_thres\n",
    "with torch.no_grad():\n",
    "    model.eval()\n",
    "    for img, name in test_dl:\n",
    "        mask = torch.sigmoid(model(T(img)))\n",
    "        mask = mask > thres\n",
    "        mask = mask.cpu().numpy()\n",
    "        for n,m in zip(name,mask):\n",
    "            m = rl_enc(m)\n",
    "            submit.loc[submit['id']==n,'rle_mask'] = m"
   ]
  },
  {
   "cell_type": "code",
   "execution_count": null,
   "metadata": {
    "hidden": true
   },
   "outputs": [],
   "source": [
    "submit.to_csv('submit.csv',index=False)"
   ]
  },
  {
   "cell_type": "code",
   "execution_count": null,
   "metadata": {
    "hidden": true
   },
   "outputs": [],
   "source": []
  }
 ],
 "metadata": {
  "kernelspec": {
   "display_name": "Python 3",
   "language": "python",
   "name": "python3"
  },
  "language_info": {
   "codemirror_mode": {
    "name": "ipython",
    "version": 3
   },
   "file_extension": ".py",
   "mimetype": "text/x-python",
   "name": "python",
   "nbconvert_exporter": "python",
   "pygments_lexer": "ipython3",
   "version": "3.6.5"
  }
 },
 "nbformat": 4,
 "nbformat_minor": 2
}
