{
 "cells": [
  {
   "cell_type": "markdown",
   "metadata": {
    "heading_collapsed": true
   },
   "source": [
    "# import"
   ]
  },
  {
   "cell_type": "code",
   "execution_count": 1,
   "metadata": {
    "hidden": true
   },
   "outputs": [],
   "source": [
    "%reload_ext autoreload\n",
    "%autoreload 2"
   ]
  },
  {
   "cell_type": "code",
   "execution_count": 2,
   "metadata": {
    "hidden": true
   },
   "outputs": [],
   "source": [
    "from lightai.learner import *\n",
    "from lightai.dataloader import *\n",
    "import torchvision.models as models\n",
    "from functional import *\n",
    "from model import *\n",
    "from transform import *\n",
    "from dataset import *\n",
    "from metric import *"
   ]
  },
  {
   "cell_type": "markdown",
   "metadata": {
    "heading_collapsed": true
   },
   "source": [
    "# data"
   ]
  },
  {
   "cell_type": "code",
   "execution_count": null,
   "metadata": {
    "hidden": true
   },
   "outputs": [],
   "source": [
    "depth_csv = pd.read_csv('inputs/depths.csv')"
   ]
  },
  {
   "cell_type": "code",
   "execution_count": 3,
   "metadata": {
    "hidden": true
   },
   "outputs": [],
   "source": [
    "trn_tsfm = compose([Hflip(0.5),CropRandom(0.5,0.5),Normalize(),transpose])\n",
    "val_tsfm = compose([Normalize(),transpose])"
   ]
  },
  {
   "cell_type": "code",
   "execution_count": 4,
   "metadata": {
    "hidden": true
   },
   "outputs": [],
   "source": [
    "bs = 256"
   ]
  },
  {
   "cell_type": "code",
   "execution_count": 26,
   "metadata": {
    "hidden": true
   },
   "outputs": [],
   "source": [
    "trn_ds = ImageDataset('inputs/train',tsfm=trn_tsfm)\n",
    "val_ds = ImageDataset('inputs/val',tsfm=val_tsfm)\n",
    "trn_sampler = BatchSampler(trn_ds, bs)\n",
    "val_sampler = BatchSampler(val_ds, bs)\n",
    "trn_dl = DataLoader(trn_sampler)\n",
    "val_dl = DataLoader(val_sampler)"
   ]
  },
  {
   "cell_type": "code",
   "execution_count": 5,
   "metadata": {
    "hidden": true
   },
   "outputs": [],
   "source": [
    "sp_trn_ds = ImageDataset('inputs/sample/train',tsfm=trn_tsfm)\n",
    "sp_val_ds = ImageDataset('inputs/sample/val',tsfm=val_tsfm)\n",
    "sp_trn_sampler = BatchSampler(sp_trn_ds, bs)\n",
    "sp_val_sampler = BatchSampler(sp_val_ds, bs)\n",
    "sp_trn_dl = DataLoader(sp_trn_sampler)\n",
    "sp_val_dl = DataLoader(sp_val_sampler)"
   ]
  },
  {
   "cell_type": "code",
   "execution_count": null,
   "metadata": {
    "hidden": true
   },
   "outputs": [],
   "source": [
    "no_tsfm_ds = ImageDataset('inputs/sample/train',tsfm=None)"
   ]
  },
  {
   "cell_type": "code",
   "execution_count": null,
   "metadata": {
    "hidden": true
   },
   "outputs": [],
   "source": [
    "plt.imshow(no_tsfm_ds[0][0])"
   ]
  },
  {
   "cell_type": "code",
   "execution_count": null,
   "metadata": {
    "hidden": true
   },
   "outputs": [],
   "source": [
    "plt.imshow(sp_trn_ds[0][0])"
   ]
  },
  {
   "cell_type": "code",
   "execution_count": null,
   "metadata": {
    "hidden": true
   },
   "outputs": [],
   "source": [
    "sp_trn_ds[0][0].shape"
   ]
  },
  {
   "cell_type": "markdown",
   "metadata": {},
   "source": [
    "# train"
   ]
  },
  {
   "cell_type": "code",
   "execution_count": 27,
   "metadata": {},
   "outputs": [],
   "source": [
    "resnet18 = models.resnet18(True)\n",
    "model = Dynamic(model_cut(resnet18,-2), sp_trn_ds).cuda()\n",
    "learner = Learner(trn_dl, val_dl, model, nn.BCEWithLogitsLoss(), metric=Score, small_better=False)"
   ]
  },
  {
   "cell_type": "code",
   "execution_count": 28,
   "metadata": {},
   "outputs": [],
   "source": [
    "learner.freeze_to(-1)"
   ]
  },
  {
   "cell_type": "code",
   "execution_count": 29,
   "metadata": {},
   "outputs": [],
   "source": [
    "wd = 1e-6\n",
    "lr = 0.3"
   ]
  },
  {
   "cell_type": "code",
   "execution_count": null,
   "metadata": {},
   "outputs": [],
   "source": [
    "learner.lr_find(n_epochs=5,wds=wd)"
   ]
  },
  {
   "cell_type": "code",
   "execution_count": 30,
   "metadata": {},
   "outputs": [
    {
     "data": {
      "application/vnd.jupyter.widget-view+json": {
       "model_id": "321b731856094a8eabdb785badd8e1ca",
       "version_major": 2,
       "version_minor": 0
      },
      "text/plain": [
       "HBox(children=(IntProgress(value=0, description='Epoch', max=32), HTML(value='')))"
      ]
     },
     "metadata": {},
     "output_type": "display_data"
    },
    {
     "name": "stdout",
     "output_type": "stream",
     "text": [
      "   epoch    trn_loss   val_loss     score                                                                                    \n",
      "     1      0.660339   0.569527   0.325000  \n",
      "     2      0.570752   0.456189   0.405000                                                                                   \n",
      "     3      0.539745   0.471220   0.276250                                                                                   \n",
      "     4      0.523212   0.493565   0.070000                                                                                   \n",
      "     5      0.502454   0.429753   0.234750                                                                                   \n",
      "     6      0.479413   0.426953   0.438250                                                                                   \n",
      "     7      0.462684   0.432841   0.451500                                                                                   \n",
      "     8      0.452924   0.421605   0.495000                                                                                   \n",
      "     9      0.446920   0.409636   0.497875                                                                                   \n",
      "    10      0.443194   0.432901   0.089875                                                                                   \n",
      "    11      0.438546   0.419972   0.358125                                                                                   \n",
      "    12      0.434073   0.432819   0.140625                                                                                   \n",
      "    13      0.435643   0.422018   0.476375                                                                                   \n",
      "    14      0.433005   0.440327   0.107125                                                                                   \n",
      "    15      0.431828   0.415640   0.506750                                                                                   \n",
      "    16      0.429856   0.429816   0.434625                                                                                   \n",
      "    17      0.432003   0.467363   0.440875                                                                                   \n",
      "    18      0.434309   0.415914   0.127625                                                                                   \n",
      "    19      0.432127   0.398724   0.504625                                                                                   \n",
      "    20      0.425078   0.404698   0.457750                                                                                   \n",
      "    21      0.421764   0.410216   0.488250                                                                                   \n",
      "    22      0.417707   0.408739   0.475375                                                                                   \n",
      "    23      0.415835   0.402987   0.503000                                                                                   \n",
      "    24      0.413077   0.442607   0.441000                                                                                   \n",
      "    25      0.409517   0.416130   0.455750                                                                                   \n",
      "    26      0.406342   0.391456   0.362125                                                                                   \n",
      "    27      0.405315   0.410167   0.468375                                                                                   \n",
      "    28      0.400686   0.397135   0.240875                                                                                   \n",
      "    29      0.396647   0.391483   0.424250                                                                                   \n",
      "    30      0.391699   0.391949   0.456750                                                                                   \n",
      "    31      0.387283   0.395720   0.443125                                                                                   \n",
      "    32      0.384218   0.395377   0.452125                                                                                   \n",
      "\n"
     ]
    }
   ],
   "source": [
    "learner.fit(n_epochs=32, lrs=lr,wds=wd,clr_params=[20,2,0.01,0.1])"
   ]
  },
  {
   "cell_type": "code",
   "execution_count": 31,
   "metadata": {},
   "outputs": [],
   "source": [
    "learner.unfreeze()"
   ]
  },
  {
   "cell_type": "code",
   "execution_count": null,
   "metadata": {},
   "outputs": [],
   "source": [
    "learner.lr_find(n_epochs=5,start_lrs=[1e-7,1e-6],wds=wd)"
   ]
  },
  {
   "cell_type": "code",
   "execution_count": 32,
   "metadata": {},
   "outputs": [],
   "source": [
    "lrs = np.array([lr/10,lr])"
   ]
  },
  {
   "cell_type": "code",
   "execution_count": 33,
   "metadata": {
    "scrolled": false
   },
   "outputs": [
    {
     "data": {
      "application/vnd.jupyter.widget-view+json": {
       "model_id": "b50168fff681445fb7a9f47a7a3c56da",
       "version_major": 2,
       "version_minor": 0
      },
      "text/plain": [
       "HBox(children=(IntProgress(value=0, description='Epoch', max=32), HTML(value='')))"
      ]
     },
     "metadata": {},
     "output_type": "display_data"
    },
    {
     "name": "stdout",
     "output_type": "stream",
     "text": [
      "   epoch    trn_loss   val_loss     score                                                                                    \n",
      "     1      0.418310   0.394307   0.363750  \n",
      "     2      0.384913   0.355555   0.520000                                                                                   \n",
      "     3      0.363114   0.318690   0.562875                                                                                   \n",
      "     4      0.352701   0.364069   0.513500                                                                                   \n",
      "     5      0.346141   0.352444   0.553625                                                                                   \n",
      "     6      0.338895   0.330517   0.564500                                                                                   \n",
      "     7      0.338161   0.386219   0.528750                                                                                   \n",
      "     8      0.338296   0.346299   0.561625                                                                                   \n",
      "     9      0.335643   0.365580   0.554125                                                                                   \n",
      "    10      0.348619   0.366048   0.552125                                                                                   \n",
      "    11      0.361346   0.368835   0.523250                                                                                   \n",
      "    12      0.361686   0.355546   0.576125                                                                                   \n",
      "    13      0.358843   0.320538   0.594375                                                                                   \n",
      "    14      0.357281   0.356625   0.576375                                                                                   \n",
      "    15      0.353642   0.330738   0.605125                                                                                   \n",
      "    16      0.346408   0.324729   0.613875                                                                                   \n",
      "    17      0.346844   0.328404   0.621250                                                                                   \n",
      "    18      0.342113   0.299980   0.635000                                                                                   \n",
      "    19      0.335127   0.306178   0.591625                                                                                   \n",
      "    20      0.330311   0.303579   0.614000                                                                                   \n",
      "    21      0.324099   0.291747   0.606500                                                                                   \n",
      "    22      0.316512   0.288333   0.631875                                                                                   \n",
      "    23      0.307150   0.260925   0.661750                                                                                   \n",
      "    24      0.302340   0.278584   0.668375                                                                                   \n",
      "    25      0.297133   0.267660   0.657000                                                                                   \n",
      "    26      0.292288   0.279603   0.645250                                                                                   \n",
      "    27      0.287333   0.277649   0.669875                                                                                   \n",
      "    28      0.283071   0.262382   0.673000                                                                                   \n",
      "    29      0.277933   0.258630   0.669250                                                                                   \n",
      "    30      0.272898   0.252558   0.676500                                                                                   \n",
      "    31      0.271394   0.252240   0.669750                                                                                   \n",
      "    32      0.266844   0.256491   0.664750                                                                                   \n",
      "\n"
     ]
    }
   ],
   "source": [
    "learner.fit(n_epochs=32, lrs=lrs/10, wds=wd, clr_params=[20,2,0.01,0.1])"
   ]
  },
  {
   "cell_type": "code",
   "execution_count": 34,
   "metadata": {},
   "outputs": [
    {
     "data": {
      "image/png": "[encoded data removed]",
      "text/plain": [
       "<Figure size 432x288 with 1 Axes>"
      ]
     },
     "metadata": {},
     "output_type": "display_data"
    }
   ],
   "source": [
    "learner.recorder.plot_loss()"
   ]
  },
  {
   "cell_type": "markdown",
   "metadata": {},
   "source": [
    "# submit"
   ]
  },
  {
   "cell_type": "code",
   "execution_count": 76,
   "metadata": {},
   "outputs": [],
   "source": [
    "resnet18 = models.resnet18(True)\n",
    "model = Dynamic(model_cut(resnet18,-2), trn_ds).cuda()\n",
    "model.load_state_dict(torch.load('model/best')['state_dict'])"
   ]
  },
  {
   "cell_type": "code",
   "execution_count": 35,
   "metadata": {},
   "outputs": [
    {
     "name": "stdout",
     "output_type": "stream",
     "text": [
      "Wall time: 3.37 s\n"
     ]
    }
   ],
   "source": [
    "%%time\n",
    "thresholds,scores = thres_score(model, val_dl)"
   ]
  },
  {
   "cell_type": "code",
   "execution_count": 36,
   "metadata": {},
   "outputs": [
    {
     "data": {
      "text/plain": [
       "0.68625"
      ]
     },
     "execution_count": 36,
     "metadata": {},
     "output_type": "execute_result"
    }
   ],
   "source": [
    "max(scores)"
   ]
  },
  {
   "cell_type": "code",
   "execution_count": 37,
   "metadata": {
    "scrolled": true
   },
   "outputs": [],
   "source": [
    "best_thres = np.argmax(scores)\n",
    "best_thres = best_thres/100"
   ]
  },
  {
   "cell_type": "code",
   "execution_count": 38,
   "metadata": {
    "scrolled": false
   },
   "outputs": [
    {
     "data": {
      "text/plain": [
       "0.81"
      ]
     },
     "execution_count": 38,
     "metadata": {},
     "output_type": "execute_result"
    }
   ],
   "source": [
    "best_thres"
   ]
  },
  {
   "cell_type": "code",
   "execution_count": null,
   "metadata": {},
   "outputs": [],
   "source": [
    "class TestDataset():\n",
    "    def __init__(self,tsfm):\n",
    "        img_path = Path('inputs/test/images')\n",
    "        self.img = list(img_path.iterdir())\n",
    "        self.tsfm = tsfm\n",
    "        \n",
    "    def __getitem__(self, idx):\n",
    "        img = Image.open(self.img[idx])\n",
    "        if self.tsfm:\n",
    "            img = self.tsfm(img)\n",
    "        name = self.img[idx].parts[-1].split('.')[0]\n",
    "        return img, name\n",
    "    \n",
    "    def __len__(self):\n",
    "        return len(self.img)"
   ]
  },
  {
   "cell_type": "code",
   "execution_count": null,
   "metadata": {},
   "outputs": [],
   "source": [
    "def get_test_data():\n",
    "    def tsfm(img):\n",
    "        mean = np.array([0.485, 0.456, 0.406])\n",
    "        std = np.array([0.229, 0.224, 0.225])\n",
    "        img = np.asarray(img).astype(np.float32)/255\n",
    "        img = (img-mean)/std\n",
    "        return img\n",
    "    test_ds = TestDataset(tsfm=tsfm)\n",
    "    test_sampler = BatchSampler(test_ds,512)\n",
    "    test_dl = DataLoader(test_sampler,batch_tsfm)\n",
    "    return test_ds,test_sampler,test_dl"
   ]
  },
  {
   "cell_type": "code",
   "execution_count": null,
   "metadata": {
    "scrolled": false
   },
   "outputs": [],
   "source": [
    "%%time\n",
    "submit = pd.read_csv('inputs/sample_submission.csv')\n",
    "test_ds,test_sampler,test_dl = get_test_data()\n",
    "thres = best_thres\n",
    "with torch.no_grad():\n",
    "    model.eval()\n",
    "    for img, name in test_dl:\n",
    "        mask = torch.sigmoid(model(T(img)))\n",
    "        mask = mask > thres\n",
    "        mask = mask.cpu().numpy()\n",
    "        for n,m in zip(name,mask):\n",
    "            m = rl_enc(m)\n",
    "            submit.loc[submit['id']==n,'rle_mask'] = m"
   ]
  },
  {
   "cell_type": "code",
   "execution_count": null,
   "metadata": {},
   "outputs": [],
   "source": [
    "submit.to_csv('submit.csv',index=False)"
   ]
  },
  {
   "cell_type": "code",
   "execution_count": null,
   "metadata": {},
   "outputs": [],
   "source": []
  }
 ],
 "metadata": {
  "kernelspec": {
   "display_name": "Python 3",
   "language": "python",
   "name": "python3"
  },
  "language_info": {
   "codemirror_mode": {
    "name": "ipython",
    "version": 3
   },
   "file_extension": ".py",
   "mimetype": "text/x-python",
   "name": "python",
   "nbconvert_exporter": "python",
   "pygments_lexer": "ipython3",
   "version": "3.6.5"
  }
 },
 "nbformat": 4,
 "nbformat_minor": 2
}
